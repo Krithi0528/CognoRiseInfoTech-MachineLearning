{
 "cells": [
  {
   "cell_type": "code",
   "execution_count": 2,
   "id": "86c138cd-0d4d-4dc8-9389-22c9e629895d",
   "metadata": {},
   "outputs": [],
   "source": [
    "import pandas as pd\n",
    "from sklearn.model_selection import train_test_split\n",
    "from sklearn.feature_extraction.text import TfidfVectorizer\n",
    "from sklearn.ensemble import RandomForestClassifier\n",
    "from sklearn.neighbors import KNeighborsClassifier\n",
    "from sklearn.naive_bayes import MultinomialNB\n",
    "from sklearn.linear_model import LogisticRegression\n",
    "from sklearn.tree import DecisionTreeClassifier\n",
    "from xgboost import XGBClassifier\n",
    "from sklearn.metrics import accuracy_score, classification_report\n",
    "from sklearn.pipeline import make_pipeline\n",
    "\n",
    "def train_and_evaluate_model(model, X_train, y_train, X_test, y_test):\n",
    "    model.fit(X_train, y_train)\n",
    "    y_pred = model.predict(X_test)\n",
    "    accuracy = accuracy_score(y_test, y_pred)\n",
    "    report = classification_report(y_test, y_pred)\n",
    "    return accuracy, report"
   ]
  },
  {
   "cell_type": "code",
   "execution_count": 3,
   "id": "6f7615a6-fdac-497b-be66-f1c56ba1c0d4",
   "metadata": {},
   "outputs": [],
   "source": [
    "try:\n",
    "    data = pd.read_csv('IMDB.csv', encoding='utf-8')\n",
    "except pd.errors.ParserError:\n",
    "    print(\"Error occurred while parsing the CSV file. Skipping problematic lines.\")\n",
    "    data = pd.read_csv('IMDB.csv', encoding='utf-8', error_bad_lines=False)\n",
    "\n",
    "\n",
    "# Assuming 'sentiment' is the target variable, and 'review' is the text content.\n",
    "# Modify the column names accordingly.\n",
    "X = data['review']\n",
    "y = data['sentiment']\n",
    "\n",
    "# Split the data into training and testing sets\n",
    "X_train, X_test, y_train, y_test = train_test_split(X, y, test_size=0.2, random_state=42)"
   ]
  },
  {
   "cell_type": "code",
   "execution_count": 4,
   "id": "dd34eb43-52e9-48dc-a344-f7ac173f4da1",
   "metadata": {},
   "outputs": [],
   "source": [
    "models = [\n",
    "    make_pipeline(TfidfVectorizer(), MultinomialNB()),\n",
    "    make_pipeline(TfidfVectorizer(), RandomForestClassifier()),\n",
    "    make_pipeline(TfidfVectorizer(), KNeighborsClassifier()),\n",
    "    make_pipeline(TfidfVectorizer(), XGBClassifier()),\n",
    "    make_pipeline(TfidfVectorizer(), LogisticRegression()),\n",
    "    make_pipeline(TfidfVectorizer(), DecisionTreeClassifier())\n",
    "]"
   ]
  },
  {
   "cell_type": "code",
   "execution_count": null,
   "id": "4ec7dfc7-073c-424c-9a40-b1ea4a223178",
   "metadata": {},
   "outputs": [
    {
     "name": "stdout",
     "output_type": "stream",
     "text": [
      "Model 1:\n",
      "Accuracy: 0.86\n",
      "Classification Report:\n",
      "              precision    recall  f1-score   support\n",
      "\n",
      "    negative       0.84      0.89      0.87      4961\n",
      "    positive       0.88      0.84      0.86      5039\n",
      "\n",
      "    accuracy                           0.86     10000\n",
      "   macro avg       0.86      0.86      0.86     10000\n",
      "weighted avg       0.86      0.86      0.86     10000\n",
      "\n",
      "==================================================\n",
      "\n"
     ]
    }
   ],
   "source": [
    "for i, model in enumerate(models):\n",
    "    accuracy, report = train_and_evaluate_model(model, X_train, y_train, X_test, y_test)\n",
    "\n",
    "    print(f\"Model {i + 1}:\\nAccuracy: {accuracy:.2f}\\nClassification Report:\\n{report}\\n{'='*50}\\n\")"
   ]
  },
  {
   "cell_type": "code",
   "execution_count": null,
   "id": "01bc73db-4da1-417d-8f1e-5115c27a1baa",
   "metadata": {},
   "outputs": [],
   "source": []
  }
 ],
 "metadata": {
  "kernelspec": {
   "display_name": "Python 3 (ipykernel)",
   "language": "python",
   "name": "python3"
  },
  "language_info": {
   "codemirror_mode": {
    "name": "ipython",
    "version": 3
   },
   "file_extension": ".py",
   "mimetype": "text/x-python",
   "name": "python",
   "nbconvert_exporter": "python",
   "pygments_lexer": "ipython3",
   "version": "3.12.3"
  }
 },
 "nbformat": 4,
 "nbformat_minor": 5
}
